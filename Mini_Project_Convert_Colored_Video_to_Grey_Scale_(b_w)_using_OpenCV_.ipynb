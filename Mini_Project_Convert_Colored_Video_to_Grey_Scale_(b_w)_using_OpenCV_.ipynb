{
  "nbformat": 4,
  "nbformat_minor": 0,
  "metadata": {
    "colab": {
      "provenance": [],
      "authorship_tag": "ABX9TyN5gYj6KZETxP5nhdHBl0YA",
      "include_colab_link": true
    },
    "kernelspec": {
      "name": "python3",
      "display_name": "Python 3"
    },
    "language_info": {
      "name": "python"
    }
  },
  "cells": [
    {
      "cell_type": "markdown",
      "metadata": {
        "id": "view-in-github",
        "colab_type": "text"
      },
      "source": [
        "<a href=\"https://colab.research.google.com/github/abi672003/MiniProject-17/blob/main/Mini_Project_Convert_Colored_Video_to_Grey_Scale_(b_w)_using_OpenCV_.ipynb\" target=\"_parent\"><img src=\"https://colab.research.google.com/assets/colab-badge.svg\" alt=\"Open In Colab\"/></a>"
      ]
    },
    {
      "cell_type": "code",
      "execution_count": null,
      "metadata": {
        "id": "QOgHBJQps5bc",
        "outputId": "7631b48d-0ed0-48a9-97ac-294166e9fefc",
        "colab": {
          "base_uri": "https://localhost:8080/"
        }
      },
      "outputs": [
        {
          "output_type": "stream",
          "name": "stdout",
          "text": [
            "Requirement already satisfied: opencv-python in /usr/local/lib/python3.10/dist-packages (4.7.0.72)\n",
            "Requirement already satisfied: numpy>=1.21.2 in /usr/local/lib/python3.10/dist-packages (from opencv-python) (1.22.4)\n"
          ]
        }
      ],
      "source": [
        "pip install opencv-python"
      ]
    },
    {
      "cell_type": "code",
      "source": [
        "import cv2\n",
        "\n",
        "# Function to convert video to grayscale\n",
        "def convert_to_grayscale(video_path, output_path):\n",
        "    # Open the video file\n",
        "    video = cv2.VideoCapture(video_path)\n",
        "\n",
        "    # Get the video's frame dimensions\n",
        "    width = int(video.get(cv2.CAP_PROP_FRAME_WIDTH))\n",
        "    height = int(video.get(cv2.CAP_PROP_FRAME_HEIGHT))\n",
        "\n",
        "    # Create a VideoWriter object to save the grayscale video\n",
        "    fourcc = cv2.VideoWriter_fourcc(*'XVID')\n",
        "    output_video = cv2.VideoWriter(output_path, fourcc, 20.0, (width, height), False)\n",
        "\n",
        "    # Process each frame of the video\n",
        "    while True:\n",
        "        # Read a frame from the video\n",
        "        ret, frame = video.read()\n",
        "\n",
        "        # If the frame was read successfully\n",
        "        if ret:\n",
        "            # Convert the frame to grayscale\n",
        "            grayscale_frame = cv2.cvtColor(frame, cv2.COLOR_BGR2GRAY)\n",
        "\n",
        "            # Write the grayscale frame to the output video\n",
        "            output_video.write(grayscale_frame)\n",
        "\n",
        "            # Display the grayscale frame\n",
        "            cv2.imshow('Grayscale Video', grayscale_frame)\n",
        "\n",
        "            # Exit if 'q' key is pressed\n",
        "            if cv2.waitKey(1) & 0xFF == ord('q'):\n",
        "                break\n",
        "        else:\n",
        "            break\n",
        "\n",
        "    # Release the video capture and writer objects\n",
        "    video.release()\n",
        "    output_video.release()\n",
        "\n",
        "    # Close all OpenCV windows\n",
        "    cv2.destroyAllWindows()\n",
        "\n",
        "# Path to the input video\n",
        "video_path = 'path/to/video.mp4'\n",
        "\n",
        "# Path to the output video\n",
        "output_path = 'path/to/output/video_gray.mp4'\n",
        "\n",
        "# Convert the video to grayscale\n",
        "convert_to_grayscale(video_path, output_path)\n"
      ],
      "metadata": {
        "id": "QtyhPG9Ns9I2"
      },
      "execution_count": null,
      "outputs": []
    }
  ]
}